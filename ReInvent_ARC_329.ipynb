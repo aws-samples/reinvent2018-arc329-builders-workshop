{
 "cells": [
  {
   "attachments": {
    "ndvi-formula-300x123.png": {
     "image/png": "[encoded data removed]"
    }
   },
   "cell_type": "markdown",
   "metadata": {},
   "source": [
    "# Reinvent 2018 - ARC329 - Massively Parallel Data Processing at Scale\n",
    "This notebook will walk you through the session Massively Parallel Data Processing at Scale.  We will use Landsat-8 satellite imagery to calculate a Normalized Differnece Vegetation Index (NDVI) for a few interesting locations around the world evaluating the GeoTIFF data across multiple spectrum bands. [Landsat 8 scenes held on AWS](https://landsatonaws.com/)\n",
    "\n",
    "### What is NDVI (Normalized Difference Vegetation Index)?\n",
    "\n",
    "Normalized Difference Vegetation Index (NDVI) quantifies vegetation by measuring the difference between near-infrared (which vegetation strongly reflects) and red light (which vegetation absorbs). NDVI always has a range from -1 to +1 with no distinct boundary for types of land cover. For example, when you have negative values, it is likely that the majority of the scene is water. In contrast, if the NVDI for a given scene calculates to a value close to +1, there is a higher possibility that the scens contains dense green vegetation. When NDVI is close to zero, there are no green leaves and it could even be an urbanized area.\n",
    "\n",
    "The formula to calculate NDVI is as follows.  For more details pertaining to how we are calculating NDVI in our examples, refer to file **l8_nvdi.py** in the source provided.  This file contains the functions we will be using in this session to calulate NDVI.\n",
    "\n",
    "\n",
    "![ndvi-formula-300x123.png](attachment:ndvi-formula-300x123.png)\n",
    "\n",
    "### Credits\n",
    "- Pywren-WorkShops - This Session builds upon work done in Lab-4 of the Pywren workshop\n",
    "- NDVI PyWren - [Peter Scarth](mailto:p.scarth@uq.edu.au?subject=AWS%20Lambda%20and%20PyWren) (Joint Remote Sensing Research Program)\n",
    "- [RemotePixel](https://github.com/RemotePixel/remotepixel-api) - Landsat 8 NDVI GeoTIFF parsing function\n",
    "- [PyWren](https://github.com/pywren/pywren) - Project by BCCI and Riselab. This project makes it easy to execute massive parallel map queries across [AWS Lambda](https://aws.amazon.com/lambda/)\n",
    "\n",
    "#### Additional notes\n",
    "The functions we use in this session will deliver results normally in under a minute for the full timeseries of more than 100 images, and we can simply plot the resulting timeseries or do further analysis. BUT, the points may well be cloud or cloud shadow contaminated. We have not done any cloud masking to the imagery, but we do have the scene metadata that indicates the probable amount of clouds across the entire scene. We use this to weight a [smoothing spline](https://docs.scipy.org/doc/scipy-0.19.1/reference/generated/scipy.interpolate.UnivariateSpline.html), such that an observation with no clouds over the scene has full weight, and an observation with 100% of the scene covered with clouds has zero weight.  "
   ]
  },
  {
   "cell_type": "markdown",
   "metadata": {},
   "source": [
    "# Step by Step Instructions"
   ]
  },
  {
   "cell_type": "markdown",
   "metadata": {},
   "source": [
    "### Prepare the Environment\n",
    "This section will setup all the necessary libraries we will be using to properly display our results, and also defines some variables and functions used throughout the session. We will import a library that allows us to query Landsat 8 data from the [AWS Public Dataset](https://aws.amazon.com/public-datasets/landsat/):\n",
    "\n",
    "Let's take a couple of minutes to walk through this initial code."
   ]
  },
  {
   "cell_type": "code",
   "execution_count": null,
   "metadata": {
    "scrolled": true
   },
   "outputs": [],
   "source": [
    "import requests, json, numpy, random, time, datetime, os, boto3, folium\n",
    "from IPython.display import HTML, display, Image\n",
    "import pandas as pd\n",
    "import matplotlib.pyplot as plt\n",
    "import seaborn as sb\n",
    "import l8_ndvi\n",
    "from scipy.interpolate import UnivariateSpline\n",
    "import pywren\n",
    "\n",
    "#AWS Region and Pywren Lambda Function Name - Update wth your values from the PyWren Setup\n",
    "AWSRegion = 'PyWren Setup AWS Region'\n",
    "LambdaName = 'PyWren Setup Function Name'\n",
    "LambdaS3Bucket='PyWren Setup S3 Bucket Name'\n",
    "\n",
    "\n",
    "\n",
    "LambdaS3Key='lambda_function.zip'\n",
    "\n",
    "\n",
    "#The following define the locations we will be pulling Landsat-8 data for and processing\n",
    "ColumbiaCoffeeLabel = 'Columbia Coffee Triangle'\n",
    "ColumbiaCoffee = '-75.6816,5.4716'\n",
    "ColumbiaCoffeeEstimatedNonMPP = 0\n",
    "\n",
    "CaNapaValleyLabel = 'California Napa Valley'\n",
    "CaNapaValley = '-122.2868,38.2975'\n",
    "CaNapaValleyEstimatedNonMPP = 0\n",
    "\n",
    "DeathValleyLabel = 'Death Valley USA'\n",
    "DeathValley = '-116.9325,36.5322'\n",
    "DeathValleyEstimatedNonMPP = 0\n",
    "\n",
    "SulaVineyardLabel = 'Sula Vineyard, Maharashtra India'\n",
    "SulaVineyard = '73.6885,20.0068'\n",
    "SulaVineyardEstimatedNonMPP = 0\n",
    "\n",
    "lonLat = ''\n",
    "\n",
    "\n",
    "\n",
    "\n",
    "# Function to return a Landsat 8 scene list given a Longitude, Latitude string\n",
    "# This uses the amazing developmentseed Satellite API\n",
    "# https://github.com/sat-utils/sat-api\n",
    "def getSceneList(locallonLat):\n",
    "    lonLat = locallonLat\n",
    "    scenes=[]\n",
    "    url = \"https://api.developmentseed.org/satellites/landsat\"\n",
    "    params = dict(\n",
    "        contains=lonLat,\n",
    "        satellite_name=\"landsat-8\",\n",
    "        limit=\"1000\") \n",
    "    # Call the API to grab the scene metadata\n",
    "    sceneMetaData = json.loads(requests.get(url=url, params=params).content)\n",
    "    # Parse the metadata\n",
    "    #print(sceneMetaData)\n",
    "    for record in sceneMetaData[\"results\"]:\n",
    "        scene = str(record['aws_index'].split('/')[-2]) \n",
    "        # This is a bit of a hack to get around some versioning problem on the API :(\n",
    "        # Related to this issue https://github.com/sat-utils/sat-api/issues/18 \n",
    "        if scene[-2:] == '01':\n",
    "            scene = scene[:-2] + '00'\n",
    "        if scene[-2:] == '02':\n",
    "            scene = scene[:-2] + '00'\n",
    "        if scene[-2:] == '03':\n",
    "            scene = scene[:-2] + '02'\n",
    "        scenes.append(scene)   \n",
    "    return scenes\n",
    "\n",
    "\n",
    "# Function to call a AWS Lambda function to drill a single pixel and compute the NDVI\n",
    "def getNDVI(scene):\n",
    "    return l8_ndvi.point(scene, eval(lonLat))\n",
    "\n",
    "# Function to Display Single Scene Data and plot location on map using folium\n",
    "def displaySingleScene(scene,locallonLat,locationName,locationTotalSceneCount):\n",
    "    lonLat = locallonLat\n",
    "    localTotalTimeEstimate = 0\n",
    "    thumbnail = l8_ndvi.thumb(scene, eval(lonLat))\n",
    "    display(Image(url=thumbnail, format='jpg'))\n",
    "    SceneMap = None\n",
    "    SceneMap = folium.Map(location=[float(lonLat.split(',')[1]),float(lonLat.split(',')[0])],zoom_start=4,width=400,height=300)\n",
    "    folium.Marker(location=[float(lonLat.split(',')[1]),float(lonLat.split(',')[0])]).add_to(SceneMap)\n",
    "    starttime=time.time()\n",
    "    result = getNDVI(scene)\n",
    "    endtime = time.time()\n",
    "    localTotalEstimate = (endtime-starttime)*locationTotalSceneCount\n",
    "    display(HTML('<b>Date:</b> '+result['date']))\n",
    "    display(HTML('<b>SceneID:</b> '+ scene))\n",
    "    display(HTML('<b>Location:</b> '+ locationName))\n",
    "    display(HTML('<b>Amount of clouds:</b> '+str(result['cloud'])+'%'))\n",
    "    display(HTML('<b>NDVI:</b> '+str(result['ndvi'])))\n",
    "    display(HTML('<b>Process Time in Sec:</b> '+str(endtime-starttime)))\n",
    "    display(HTML('<b>Estimated Time in Sec to process all images in for this location </b> ' +str(localTotalEstimate) ))\n",
    "    display(SceneMap)\n",
    "    return localTotalEstimate\n",
    "\n",
    "#Function to process All Landsat-8 images in a given Scene using PyWren in a MPP manner. \n",
    "def processScenesMPP(scenes,locallonLat,locationName,localTotalEstimate):\n",
    "    lonLat = locallonLat\n",
    "    index = len(scenes)\n",
    "    pwex = pywren.default_executor()\n",
    "    starttime=time.time()\n",
    "    results = pywren.get_all_results(pwex.map(getNDVI, scenes[:index]))\n",
    "    endtime = time.time()\n",
    "    EstMPPTimeSaving = localTotalEstimate - (endtime-starttime)\n",
    "    results = filter(None, results)\n",
    "    display(HTML('<b>Location Name: </b>'+locationName))\n",
    "    display(HTML('<b>Scenes Processed:</b> '+str(len(scenes))))\n",
    "    display(HTML('<b>Scenes With Data:</b> '+str(len(results))))\n",
    "    display(HTML('<b>Process Time in Sec:</b> '+str(endtime-starttime)))\n",
    "    display(HTML('<b>Estimated Time Saved using MPP:</b> '+str(EstMPPTimeSaving)))\n",
    "    display(HTML('<b>---------------------------------</b> '))\n",
    "    return results\n",
    "\n",
    "#Function to Display results returned from our MPP process of a given location.  This uses Pandas Dataframes to display\n",
    "#Data in a table and folium to map the location\n",
    "def displayMPPResults(results,locallonLat,locationName):\n",
    "    lonLat = locallonLat\n",
    "    series = pd.DataFrame(results)\n",
    "    series = series[::-1]\n",
    "    series = series[['date','cloud','ndvi']]\n",
    "    redColors = sb.light_palette(\"blue\",as_cmap=True)\n",
    "    greenColors = sb.light_palette(\"green\",as_cmap=True)\n",
    "    display(HTML('<b>Location:</b> '+locationName))\n",
    "    display(HTML('<b>Average NDVI:</b> '+str(series['ndvi'].mean())))\n",
    "    display(HTML('<b>Average Cloud %:</b> '+str(series['cloud'].mean())))\n",
    "    with pd.option_context('display.max_rows',None,'display.max_columns',None):\n",
    "        display(series.style.background_gradient(cmap=redColors,subset=['cloud']).highlight_max(subset=['cloud']).set_caption(locationName).hide_index().background_gradient(cmap=greenColors,subset=['ndvi']).highlight_max(subset=['ndvi']))\n",
    "    SceneMap = None\n",
    "    SceneMap = folium.Map(location=[float(lonLat.split(',')[1]),float(lonLat.split(',')[0])],zoom_start=4,width=400,height=300)\n",
    "    folium.Marker(location=[float(lonLat.split(',')[1]),float(lonLat.split(',')[0])]).add_to(SceneMap)\n",
    "    display(SceneMap)\n",
    "\n",
    "\n",
    "def plotMPPResults(results,locallonLat,locationName):\n",
    "    timeSeries = filter(None,results)\n",
    "    #Use DataFrame to remove duplicate dates.  Two datapoints with same date will cause fitTime to contain invalid datapoints for plotting\n",
    "    dfTS = pd.DataFrame.from_dict(timeSeries)\n",
    "    dfTSU = dfTS.drop_duplicates(subset='date',keep='last',inplace=False)\n",
    "    timeSeries = dfTSU.to_dict('records')\n",
    "    # Extract the data trom the list of results\n",
    "    timeStamps = [datetime.datetime.strptime(obs['date'],'%Y-%m-%d') for obs in timeSeries if 'date' in obs]\n",
    "    ndviSeries = [obs['ndvi'] for obs in timeSeries if 'ndvi' in obs]\n",
    "    cloudSeries = [obs['cloud']/100 for obs in timeSeries if 'cloud' in obs]\n",
    "\n",
    "    # Create a time variable as the x axis to fit the observations\n",
    "    # First we convert to seconds\n",
    "    timeSecs = numpy.array([(obsTime-datetime.datetime(1970,1,1)).total_seconds() for obsTime in timeStamps])\n",
    "    # And then normalize from 0 to 1 to avoid any numerical issues in the fitting\n",
    "    fitTime = ((timeSecs-numpy.min(timeSecs))/(numpy.max(timeSecs)-numpy.min(timeSecs)))\n",
    "    # Smooth the data by fitting a spline weighted by cloud amount\n",
    "    smoothedNDVI=UnivariateSpline(\n",
    "        fitTime[numpy.argsort(fitTime)],\n",
    "        numpy.array(ndviSeries)[numpy.argsort(fitTime)],\n",
    "        w=(1.0-numpy.array(cloudSeries)[numpy.argsort(fitTime)])**2.0,\n",
    "        k=2,\n",
    "        s=0.1)(fitTime)\n",
    "\n",
    "    fig = plt.figure(figsize=(16,10))\n",
    "    plt.plot(timeStamps,ndviSeries, 'gx',label='Raw NDVI Data')\n",
    "    plt.plot(timeStamps,ndviSeries, 'y:', linewidth=1)\n",
    "    plt.plot(timeStamps,cloudSeries, 'b.', linewidth=1,label='Scene Cloud Percent')\n",
    "    plt.plot(timeStamps,cloudSeries, 'b:', linewidth=1)\n",
    "    plt.plot(timeStamps,smoothedNDVI, 'r--', linewidth=3,label='Cloudfree Weighted Spline')\n",
    "    plt.xlabel('Date', fontsize=16)\n",
    "    plt.ylabel('NDVI', fontsize=16)\n",
    "    plt.title(locationName, fontsize=20)\n",
    "    plt.grid(True)\n",
    "    plt.ylim([-.1,1.0])\n",
    "    plt.legend(fontsize=14)\n",
    "    plt.show()\n",
    "    lonLat = locallonLat\n",
    "    SceneMap = None\n",
    "    SceneMap = folium.Map(location=[float(lonLat.split(',')[1]),float(lonLat.split(',')[0])],zoom_start=4,width=400,height=300)\n",
    "    folium.Marker(location=[float(lonLat.split(',')[1]),float(lonLat.split(',')[0])]).add_to(SceneMap)\n",
    "    display(SceneMap)\n",
    "    display(HTML('<b>---------------------------------------------------------</b> '))\n",
    "    "
   ]
  },
  {
   "cell_type": "markdown",
   "metadata": {},
   "source": [
    "# Get Scene Lists\n",
    "The First thing we are going to do is call **getSceneList** for each of our locations of interest.  We will use the data in the returned lists to get specific images for processing.\n"
   ]
  },
  {
   "cell_type": "code",
   "execution_count": null,
   "metadata": {
    "scrolled": false
   },
   "outputs": [],
   "source": [
    "scenesColumbiaCoffee = getSceneList(ColumbiaCoffee)\n",
    "scenesCaNapaValley = getSceneList(CaNapaValley)\n",
    "scenesDeathValley = getSceneList(DeathValley)\n",
    "scenesSulaVineyard = getSceneList(SulaVineyard)\n",
    "\n",
    "display(HTML('Total Columbia Coffee Scenes: <b>' + str(len(scenesColumbiaCoffee)) + '</b>'))\n",
    "display(HTML('Total Napa Valley Scenes: <b>' + str(len(scenesCaNapaValley)) + '</b>'))\n",
    "display(HTML('Total Death Valley Scenes: <b>' + str(len(scenesDeathValley)) + '</b>'))\n",
    "display(HTML('Total Sula Vineyard Scenes: <b>' + str(len(scenesSulaVineyard)) + '</b>'))\n"
   ]
  },
  {
   "cell_type": "markdown",
   "metadata": {},
   "source": [
    "You may have noticed by the scene counts, not all locations have the same ammount of data. This is related to satellite orbits and how may passes a given location is seen by the satellite in a given year."
   ]
  },
  {
   "cell_type": "markdown",
   "metadata": {},
   "source": [
    "## Get familiar with the data\n",
    "\n",
    "Now that we have our scene lists, let's take a look at a single date in the first location. We will be calling **diaplaySingleScene** with a random index on our first location's scene list. Running this cell a few times will give you an idea of the differences in the image clarity and level of cloud cover over time for the same location and also a feel for how long it takes to process a single image. Later in this session we will be using PyWren and Lambda to process ALL images in a given scene at once.\n",
    "\n",
    "## Let's have a look at a Columbian Coffee Field"
   ]
  },
  {
   "cell_type": "code",
   "execution_count": null,
   "metadata": {},
   "outputs": [],
   "source": [
    "lonLat=ColumbiaCoffee\n",
    "ColumbiaCoffeeEstimatedNonMPP = displaySingleScene(random.choice(scenesColumbiaCoffee),ColumbiaCoffee,ColumbiaCoffeeLabel,len(scenesColumbiaCoffee))\n"
   ]
  },
  {
   "cell_type": "markdown",
   "metadata": {},
   "source": [
    "## Review Results\n",
    "Have a look at the output above and get a feel for the type of data we will be working with.  Take note of the time it took to process a single image, we have also used this time to calculate an estimate of how long it may take to process the entire image set for this scene one at a time.  Notice as the cloud percentage increases, the NDVI decreases.  This is because we have less light and less reflectivity/absorption from possible vegetation in the scene.  As we stated above, we are not masking for clouds in our calculations so in theory there may be a scene with a very good NDVI score being skewed slightly by cloud cover."
   ]
  },
  {
   "cell_type": "markdown",
   "metadata": {},
   "source": [
    "## Let's take a look at Napa Valley"
   ]
  },
  {
   "cell_type": "code",
   "execution_count": null,
   "metadata": {},
   "outputs": [],
   "source": [
    "lonLat=CaNapaValley\n",
    "CaNapaValleyEstimatedNonMPP = displaySingleScene(random.choice(scenesCaNapaValley),CaNapaValley, CaNapaValleyLabel,len(scenesCaNapaValley))"
   ]
  },
  {
   "cell_type": "markdown",
   "metadata": {},
   "source": [
    "## Now Death Valley"
   ]
  },
  {
   "cell_type": "code",
   "execution_count": null,
   "metadata": {},
   "outputs": [],
   "source": [
    "lonLat=DeathValley\n",
    "DeathValleyEstimatedNonMPP = displaySingleScene(random.choice(scenesDeathValley),DeathValley, DeathValleyLabel,len(scenesDeathValley))"
   ]
  },
  {
   "cell_type": "markdown",
   "metadata": {},
   "source": [
    "Notice in Death Valley, we get low NDVI even when the cloud cover percentage is low.  This is because there isn't much if any vegetation to report back to the LandSat Sensor Array either reflected or absorbed light levels.\n",
    "\n",
    "## And Finally Sula Vineyard, India"
   ]
  },
  {
   "cell_type": "code",
   "execution_count": null,
   "metadata": {
    "scrolled": false
   },
   "outputs": [],
   "source": [
    "lonLat=SulaVineyard\n",
    "SulaVineyardEstimatedNonMPP = displaySingleScene(random.choice(scenesSulaVineyard),SulaVineyard, SulaVineyardLabel,len(scenesSulaVineyard))"
   ]
  },
  {
   "cell_type": "markdown",
   "metadata": {},
   "source": [
    "## Review the results from all above single images runs\n",
    "As you can see each of these single processes took on average 2 seconds to complete.  If we had 1000 images, this would take over 30 min to process.  Now that we have a good baseline for timing, let's move on to the MPP part of this session."
   ]
  },
  {
   "cell_type": "markdown",
   "metadata": {},
   "source": [
    "### Massively Parallel Processing with PyWren\n",
    "\n",
    "Now let's try this with multiple scenes and send it to PyWren, however to accomplish this we need to change our PyWren AWS Lambda function to include the necessary libraries such as rasterio and GDAL. Since those libraries are compiled C code, PyWren will not be able to pickle it up and send it to the Lambda function. Hence we will update the entire PyWren function to include the necessary binaries that have been compiled on an Amazon EC2 instance with Amazon Linux. We pre-packaged this and made it available via **NeedLocation**\n",
    "\n",
    "Running the cell below will update the Lambda Function that the PyWren installer created.  Before running this, make sure the **LambdaName** and **AWSRegion** variables are defined in the initialization cell at the top of this notebook and match those used when configuring PyWren-Setup."
   ]
  },
  {
   "cell_type": "code",
   "execution_count": null,
   "metadata": {},
   "outputs": [],
   "source": [
    "lambdaclient = boto3.client('lambda', AWSRegion)\n",
    "\n",
    "response = lambdaclient.update_function_code(\n",
    "    FunctionName=LambdaName,\n",
    "    Publish=True,\n",
    "    S3Bucket=LambdaS3Bucket,\n",
    "    S3Key=LambdaS3Key\n",
    ")\n",
    "\n",
    "response = lambdaclient.update_function_configuration(\n",
    "    FunctionName=LambdaName,\n",
    "    Environment={\n",
    "        'Variables': {\n",
    "            'GDAL_DATA': '/var/task/lib/gdal'\n",
    "        }\n",
    "    }\n",
    ")"
   ]
  },
  {
   "cell_type": "markdown",
   "metadata": {},
   "source": [
    "## Ok Now that we have updated our AWS Lambda Function\n",
    "As you may have noticed, each of our locations has over 100 scenes with two locations having more than 300 scenes. This is a good use-case for PyWren as it will allow us to have AWS Lambda perform the calculation of NDVI and clouds for us in parallel. Running the calculation in AWS will also be more efficiant when pulling images from the LandSat-8 data set stored in S3. \n",
    "\n",
    "Ok let's run the full scene list for the Columbian Coffee Triangle to generate our dataset for future processing."
   ]
  },
  {
   "cell_type": "code",
   "execution_count": null,
   "metadata": {
    "scrolled": true
   },
   "outputs": [],
   "source": [
    "lonLat = ColumbiaCoffee\n",
    "resultsColumbiaCoffee = processScenesMPP(scenesColumbiaCoffee,ColumbiaCoffee,ColumbiaCoffeeLabel,ColumbiaCoffeeEstimatedNonMPP)\n"
   ]
  },
  {
   "cell_type": "markdown",
   "metadata": {},
   "source": [
    "### Now let's get our dataset for Napa Valley"
   ]
  },
  {
   "cell_type": "code",
   "execution_count": null,
   "metadata": {},
   "outputs": [],
   "source": [
    "lonLat = CaNapaValley\n",
    "resultsCaNapaValley = processScenesMPP(scenesCaNapaValley,CaNapaValley,CaNapaValleyLabel,CaNapaValleyEstimatedNonMPP)"
   ]
  },
  {
   "cell_type": "markdown",
   "metadata": {},
   "source": [
    "### Now let's get our dataset for Death Valley\n"
   ]
  },
  {
   "cell_type": "code",
   "execution_count": null,
   "metadata": {},
   "outputs": [],
   "source": [
    "lonLat = DeathValley\n",
    "resultsDeathValley = processScenesMPP(scenesDeathValley,DeathValley,DeathValleyLabel,DeathValleyEstimatedNonMPP)"
   ]
  },
  {
   "cell_type": "markdown",
   "metadata": {},
   "source": [
    "### Now let's get our dataset for Sula Vineyard"
   ]
  },
  {
   "cell_type": "code",
   "execution_count": null,
   "metadata": {
    "scrolled": true
   },
   "outputs": [],
   "source": [
    "lonLat = SulaVineyard\n",
    "resultsSulaVineyard = processScenesMPP(scenesSulaVineyard,SulaVineyard,SulaVineyardLabel,SulaVineyardEstimatedNonMPP)"
   ]
  },
  {
   "cell_type": "markdown",
   "metadata": {},
   "source": [
    "### Now Let's Display Results\n",
    "Let's take a look at the dataset for Columbia Coffee Triangle.  We are using a Pandas DataFrame with some style formatting applied to create a heatmap for each data point of interest.  We use a blue pallet to indicate the level of cloud cover where a darker blue indicates a higher amount of cloud cover. We use a green pallet to indicate the NDVI level from -1 to 1 where the darker the gradient, the better the NDVI reading.  Notice that where the clouds are darker blue, the corresponding NDVI is lighter green.  The opposite is true as well, lighter clouds corresponds to a darker NDVI. We are also highlighting Yellow the MAX value in each column.\n",
    "The details of this function **displayMPPResults** are defined in the initilization cell."
   ]
  },
  {
   "cell_type": "code",
   "execution_count": null,
   "metadata": {},
   "outputs": [],
   "source": [
    "\n",
    "displayMPPResults(resultsColumbiaCoffee,ColumbiaCoffee,ColumbiaCoffeeLabel)\n",
    "\n"
   ]
  },
  {
   "cell_type": "markdown",
   "metadata": {},
   "source": [
    "### Let's take a look at Napa Valley CA"
   ]
  },
  {
   "cell_type": "code",
   "execution_count": null,
   "metadata": {},
   "outputs": [],
   "source": [
    "displayMPPResults(resultsCaNapaValley,CaNapaValley,CaNapaValleyLabel)"
   ]
  },
  {
   "cell_type": "markdown",
   "metadata": {},
   "source": [
    "### Review Results for Death Valley USA"
   ]
  },
  {
   "cell_type": "code",
   "execution_count": null,
   "metadata": {
    "scrolled": false
   },
   "outputs": [],
   "source": [
    "displayMPPResults(resultsDeathValley,DeathValley,DeathValleyLabel)"
   ]
  },
  {
   "cell_type": "markdown",
   "metadata": {},
   "source": [
    "### Review Results for Sula Vineyard India"
   ]
  },
  {
   "cell_type": "code",
   "execution_count": null,
   "metadata": {},
   "outputs": [],
   "source": [
    "displayMPPResults(resultsSulaVineyard,SulaVineyard,SulaVineyardLabel)"
   ]
  },
  {
   "cell_type": "markdown",
   "metadata": {},
   "source": [
    "While the DataFrame table visualization is not bad, we can use the [Matplotlib](https://matplotlib.org/) library instead to plot our data over time. We call the function **plotNDVIData** which is defined in the initialization cell at the beginning of this notebook.\n",
    "\n",
    "## Let's Plot the Columbian Coffee Triangle"
   ]
  },
  {
   "cell_type": "code",
   "execution_count": null,
   "metadata": {},
   "outputs": [],
   "source": [
    "plotMPPResults(resultsColumbiaCoffee,ColumbiaCoffee,ColumbiaCoffeeLabel)"
   ]
  },
  {
   "cell_type": "markdown",
   "metadata": {},
   "source": [
    "## Now Let's Plot of Napa Valley CA"
   ]
  },
  {
   "cell_type": "code",
   "execution_count": null,
   "metadata": {
    "scrolled": false
   },
   "outputs": [],
   "source": [
    "plotMPPResults(resultsCaNapaValley,CaNapaValley,CaNapaValleyLabel)"
   ]
  },
  {
   "cell_type": "markdown",
   "metadata": {},
   "source": [
    "## Now we will Plot of Death Valley USA"
   ]
  },
  {
   "cell_type": "code",
   "execution_count": null,
   "metadata": {},
   "outputs": [],
   "source": [
    "plotMPPResults(resultsDeathValley,DeathValley,DeathValleyLabel)"
   ]
  },
  {
   "cell_type": "markdown",
   "metadata": {},
   "source": [
    "## Finally let's take a look at the Plot of Sula Vineyard "
   ]
  },
  {
   "cell_type": "code",
   "execution_count": null,
   "metadata": {},
   "outputs": [],
   "source": [
    "plotMPPResults(resultsSulaVineyard,SulaVineyard,SulaVineyardLabel)"
   ]
  },
  {
   "cell_type": "markdown",
   "metadata": {},
   "source": [
    "# Challenge : Define a location of your choice and plot the NDVI results"
   ]
  },
  {
   "cell_type": "code",
   "execution_count": null,
   "metadata": {},
   "outputs": [],
   "source": []
  }
 ],
 "metadata": {
  "kernelspec": {
   "display_name": "Python 2",
   "language": "python",
   "name": "python2"
  },
  "language_info": {
   "codemirror_mode": {
    "name": "ipython",
    "version": 2
   },
   "file_extension": ".py",
   "mimetype": "text/x-python",
   "name": "python",
   "nbconvert_exporter": "python",
   "pygments_lexer": "ipython2",
   "version": "2.7.15"
  }
 },
 "nbformat": 4,
 "nbformat_minor": 2
}
